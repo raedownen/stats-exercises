{
 "cells": [
  {
   "cell_type": "markdown",
   "id": "53c30a51",
   "metadata": {},
   "source": [
    "# MySQL"
   ]
  },
  {
   "cell_type": "code",
   "execution_count": null,
   "id": "3d69db66",
   "metadata": {},
   "outputs": [],
   "source": [
    "#from env import host, user, password\n",
    "#url = f'mysql+pymysql://{user}:{password}@{host}/employees'\n"
   ]
  },
  {
   "cell_type": "code",
   "execution_count": null,
   "id": "9c677695",
   "metadata": {},
   "outputs": [],
   "source": [
    "def get_db_url(db):\n",
    "    return f'mysql+pymysql://{user}:{password}@{host}/{db}'\n"
   ]
  },
  {
   "cell_type": "code",
   "execution_count": null,
   "id": "b04a3598",
   "metadata": {},
   "outputs": [],
   "source": [
    "sql = '''\n",
    "SELECT *\n",
    "FROM employees\n",
    "LIMIT 10\n",
    "'''"
   ]
  },
  {
   "cell_type": "code",
   "execution_count": null,
   "id": "58e20e00",
   "metadata": {},
   "outputs": [],
   "source": [
    "df = pd.read_sql(sql, get_db_url('employees'))"
   ]
  },
  {
   "cell_type": "markdown",
   "id": "87a8a0a1",
   "metadata": {},
   "source": [
    "# Pydata "
   ]
  },
  {
   "cell_type": "code",
   "execution_count": null,
   "id": "8da7015f",
   "metadata": {},
   "outputs": [],
   "source": [
    "from pydataset import data"
   ]
  },
  {
   "cell_type": "code",
   "execution_count": null,
   "id": "16eb0086",
   "metadata": {},
   "outputs": [],
   "source": [
    "#data(df_string_name, show_doc=True)\n",
    "data('mpg', show_doc=True)"
   ]
  },
  {
   "cell_type": "code",
   "execution_count": null,
   "id": "759f4986",
   "metadata": {},
   "outputs": [],
   "source": [
    "# load the dataset and store it in a variable\n",
    "df = data(df_string_name)\n",
    "mpg = data('mpg') "
   ]
  },
  {
   "cell_type": "code",
   "execution_count": null,
   "id": "c9290310",
   "metadata": {},
   "outputs": [],
   "source": [
    "# Load the dataset and store it in the variable mpg.\n",
    "mpg = data('mpg')"
   ]
  },
  {
   "cell_type": "markdown",
   "id": "e7e5e307",
   "metadata": {},
   "source": [
    "# Seaborn"
   ]
  },
  {
   "cell_type": "code",
   "execution_count": null,
   "id": "36d643ba",
   "metadata": {},
   "outputs": [],
   "source": [
    "import seaborn as sns"
   ]
  },
  {
   "cell_type": "code",
   "execution_count": null,
   "id": "0cf2c6e7",
   "metadata": {},
   "outputs": [],
   "source": [
    "sns.set_context('notebook') # other settings include paper/poster/talk \n",
    "sns.set_style(\"ticks\") # other styles include darkgrid/dark/whitegrid/white"
   ]
  },
  {
   "cell_type": "code",
   "execution_count": null,
   "id": "5e38e65d",
   "metadata": {},
   "outputs": [],
   "source": [
    "print(sns.get_dataset_names())"
   ]
  },
  {
   "cell_type": "code",
   "execution_count": null,
   "id": "b5c87dc4",
   "metadata": {},
   "outputs": [],
   "source": [
    "data('anscombe', show_doc = True)"
   ]
  },
  {
   "cell_type": "code",
   "execution_count": null,
   "id": "de702b5a",
   "metadata": {},
   "outputs": [],
   "source": [
    "ansc = sns.load_dataset('anscombe')"
   ]
  },
  {
   "cell_type": "code",
   "execution_count": null,
   "id": "6fd328c5",
   "metadata": {},
   "outputs": [],
   "source": [
    "ansc.describe()"
   ]
  },
  {
   "cell_type": "code",
   "execution_count": null,
   "id": "85c3b63f",
   "metadata": {},
   "outputs": [],
   "source": [
    "ansc.info()"
   ]
  },
  {
   "cell_type": "code",
   "execution_count": null,
   "id": "72e4d936",
   "metadata": {},
   "outputs": [],
   "source": [
    "ansc.dtypes"
   ]
  },
  {
   "cell_type": "code",
   "execution_count": null,
   "id": "3658b008",
   "metadata": {},
   "outputs": [],
   "source": [
    "sns.relplot(x='x', y='y', col='dataset', data=ansc)"
   ]
  },
  {
   "cell_type": "code",
   "execution_count": null,
   "id": "027e5172",
   "metadata": {},
   "outputs": [],
   "source": [
    "ansc.groupby('dataset').describe()"
   ]
  },
  {
   "cell_type": "code",
   "execution_count": null,
   "id": "f6f3cd45",
   "metadata": {},
   "outputs": [],
   "source": [
    "sns.lmplot(data = ansc, x = 'x', y= 'y', col = 'dataset')"
   ]
  }
 ],
 "metadata": {
  "kernelspec": {
   "display_name": "Python 3 (ipykernel)",
   "language": "python",
   "name": "python3"
  },
  "language_info": {
   "codemirror_mode": {
    "name": "ipython",
    "version": 3
   },
   "file_extension": ".py",
   "mimetype": "text/x-python",
   "name": "python",
   "nbconvert_exporter": "python",
   "pygments_lexer": "ipython3",
   "version": "3.9.7"
  }
 },
 "nbformat": 4,
 "nbformat_minor": 5
}
