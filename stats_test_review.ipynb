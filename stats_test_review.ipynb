{
 "cells": [
  {
   "cell_type": "raw",
   "id": "ad21f1c3",
   "metadata": {},
   "source": [
    "SIMULATION EXERCISES"
   ]
  },
  {
   "cell_type": "code",
   "execution_count": 1,
   "id": "10216495",
   "metadata": {},
   "outputs": [],
   "source": [
    "%matplotlib inline\n",
    "import numpy as np\n",
    "import pandas as pd\n",
    "\n",
    "import viz # curriculum example visualizations\n",
    "\n",
    "np.random.seed(29)"
   ]
  },
  {
   "cell_type": "raw",
   "id": "15067ec5",
   "metadata": {},
   "source": [
    "Generating Random Numbers with Numpy\n",
    "The numpy.random module provides a number of functions for generating random numbers.\n",
    "\n",
    "np.random.choice: selects random options from a list\n",
    "np.random.uniform: generates numbers between a given lower and upper bound\n",
    "np.random.random: generates numbers between 0 and 1\n",
    "np.random.randn: generates numbers from the standard normal distribution\n",
    "np.random.normal: generates numbers from a normal distribution with a specified mean and standard deviation"
   ]
  },
  {
   "cell_type": "raw",
   "id": "d97d0254",
   "metadata": {},
   "source": [
    "1. How likely is it that you  when rolling two dice?"
   ]
  },
  {
   "cell_type": "code",
   "execution_count": 31,
   "id": "c340d743",
   "metadata": {},
   "outputs": [
    {
     "data": {
      "text/plain": [
       "array([[4, 1],\n",
       "       [3, 1],\n",
       "       [6, 5],\n",
       "       ...,\n",
       "       [5, 1],\n",
       "       [2, 4],\n",
       "       [1, 3]])"
      ]
     },
     "execution_count": 31,
     "metadata": {},
     "output_type": "execute_result"
    }
   ],
   "source": [
    "rolls = np.random.choice([1, 2, 3, 4, 5, 6], size = (10000, 2))\n",
    "\n",
    "#Here we used the choice function to randomly select an element out of the list of \n",
    "#the number 1-6, effectively simulating a dice roll. The second argument supplied to \n",
    "#choice is the total number of dice to roll. Once we have generated all the dice rolls, \n",
    "#we use the .reshape method to create our matrix with 2 columns and 10,000 rows.\n",
    "rolls"
   ]
  },
  {
   "cell_type": "code",
   "execution_count": 33,
   "id": "0603da2d",
   "metadata": {},
   "outputs": [
    {
     "data": {
      "text/plain": [
       "array([False, False, False, ..., False, False, False])"
      ]
     },
     "execution_count": 33,
     "metadata": {},
     "output_type": "execute_result"
    }
   ],
   "source": [
    "roll_doubles = (rolls[:, 0]) == (rolls[:, 1])\n",
    "roll_doubles"
   ]
  },
  {
   "cell_type": "code",
   "execution_count": 34,
   "id": "da809446",
   "metadata": {},
   "outputs": [
    {
     "data": {
      "text/plain": [
       "1649"
      ]
     },
     "execution_count": 34,
     "metadata": {},
     "output_type": "execute_result"
    }
   ],
   "source": [
    "roll_doubles.sum()"
   ]
  },
  {
   "cell_type": "code",
   "execution_count": 35,
   "id": "f47ab475",
   "metadata": {},
   "outputs": [
    {
     "data": {
      "text/plain": [
       "16.49"
      ]
     },
     "execution_count": 35,
     "metadata": {},
     "output_type": "execute_result"
    }
   ],
   "source": [
    "roll_doubles.sum()/10000 * 100"
   ]
  },
  {
   "cell_type": "code",
   "execution_count": 36,
   "id": "30c573f3",
   "metadata": {},
   "outputs": [],
   "source": [
    "roll1 = np.random.choice([1,2,3,4,5,6], size = (100000, 1))\n",
    "roll2 = np.random.choice([1,2,3,4,5,6], size = (100000, 1))"
   ]
  },
  {
   "cell_type": "code",
   "execution_count": 37,
   "id": "b09f40b3",
   "metadata": {},
   "outputs": [
    {
     "data": {
      "text/plain": [
       "0.16699"
      ]
     },
     "execution_count": 37,
     "metadata": {},
     "output_type": "execute_result"
    }
   ],
   "source": [
    "(roll1 == roll2).mean()"
   ]
  },
  {
   "cell_type": "raw",
   "id": "e9202cfa",
   "metadata": {},
   "source": [
    "2. If you flip 8 coins, what is the probability of getting exactly 3 heads? What is the probability of getting more than 3 heads?"
   ]
  },
  {
   "cell_type": "code",
   "execution_count": 42,
   "id": "a366baf7",
   "metadata": {},
   "outputs": [
    {
     "data": {
      "text/plain": [
       "array([[0, 0, 1, ..., 0, 1, 1],\n",
       "       [0, 0, 0, ..., 1, 1, 1],\n",
       "       [0, 1, 0, ..., 1, 0, 0],\n",
       "       ...,\n",
       "       [0, 1, 0, ..., 1, 1, 1],\n",
       "       [1, 1, 1, ..., 0, 1, 1],\n",
       "       [0, 1, 0, ..., 0, 1, 0]])"
      ]
     },
     "execution_count": 42,
     "metadata": {},
     "output_type": "execute_result"
    }
   ],
   "source": [
    "flips = np.random.choice([0,1], size = (100000, 8))\n",
    "flips"
   ]
  },
  {
   "cell_type": "code",
   "execution_count": 43,
   "id": "b869341f",
   "metadata": {},
   "outputs": [
    {
     "data": {
      "text/plain": [
       "array([4, 3, 3, ..., 6, 6, 3])"
      ]
     },
     "execution_count": 43,
     "metadata": {},
     "output_type": "execute_result"
    }
   ],
   "source": [
    "sums_by_trial = flips.sum(axis=1)\n",
    "sums_by_trial"
   ]
  },
  {
   "cell_type": "code",
   "execution_count": 44,
   "id": "abeb2686",
   "metadata": {},
   "outputs": [
    {
     "data": {
      "text/plain": [
       "22077"
      ]
     },
     "execution_count": 44,
     "metadata": {},
     "output_type": "execute_result"
    }
   ],
   "source": [
    "flips_equal_3 = sums_by_trial ==3\n",
    "flips_equal_3.sum()"
   ]
  },
  {
   "cell_type": "code",
   "execution_count": 45,
   "id": "812acf8e",
   "metadata": {},
   "outputs": [
    {
     "data": {
      "text/plain": [
       "22.076999999999998"
      ]
     },
     "execution_count": 45,
     "metadata": {},
     "output_type": "execute_result"
    }
   ],
   "source": [
    "flips_equal_3.sum() / 100000 * 100"
   ]
  },
  {
   "cell_type": "code",
   "execution_count": 46,
   "id": "39e1241c",
   "metadata": {},
   "outputs": [
    {
     "data": {
      "text/plain": [
       "63582"
      ]
     },
     "execution_count": 46,
     "metadata": {},
     "output_type": "execute_result"
    }
   ],
   "source": [
    "flips_greater_equal_3 = sums_by_trial > 3\n",
    "flips_greater_equal_3.sum()"
   ]
  },
  {
   "cell_type": "code",
   "execution_count": 47,
   "id": "32573562",
   "metadata": {},
   "outputs": [
    {
     "data": {
      "text/plain": [
       "63.58200000000001"
      ]
     },
     "execution_count": 47,
     "metadata": {},
     "output_type": "execute_result"
    }
   ],
   "source": [
    "flips_greater_equal_3.sum() / 100000 * 100"
   ]
  },
  {
   "cell_type": "raw",
   "id": "4458e0fd",
   "metadata": {},
   "source": [
    "3. There are approximitely 3 web development cohorts for every 1 data science cohort at Codeup. Assuming that Codeup randomly selects an alumni to put on a billboard, what are the odds that the two billboards I drive past both have data science students on them?"
   ]
  },
  {
   "cell_type": "code",
   "execution_count": 23,
   "id": "fbb4a5eb",
   "metadata": {},
   "outputs": [
    {
     "data": {
      "text/plain": [
       "array([['wb', 'wb'],\n",
       "       ['wb', 'wb'],\n",
       "       ['ds', 'wb'],\n",
       "       ...,\n",
       "       ['ds', 'wb'],\n",
       "       ['ds', 'wb'],\n",
       "       ['wb', 'wb']], dtype='<U2')"
      ]
     },
     "execution_count": 23,
     "metadata": {},
     "output_type": "execute_result"
    }
   ],
   "source": [
    "n_trials = nrows = 100000\n",
    "n_billboards = ncols = 2\n",
    "\n",
    "billboards_passed = np.random.choice(['wb', 'wb', 'wb', 'ds'], n_trials * n_billboards).reshape(nrows, ncols)\n",
    "billboards_passed"
   ]
  },
  {
   "cell_type": "code",
   "execution_count": 24,
   "id": "9e4a339a",
   "metadata": {},
   "outputs": [
    {
     "ename": "TypeError",
     "evalue": "cannot perform reduce with flexible type",
     "output_type": "error",
     "traceback": [
      "\u001b[0;31m---------------------------------------------------------------------------\u001b[0m",
      "\u001b[0;31mTypeError\u001b[0m                                 Traceback (most recent call last)",
      "\u001b[0;32m/var/folders/kj/9tgz9jx971q_90vcdkdmfdh40000gn/T/ipykernel_2197/3405324894.py\u001b[0m in \u001b[0;36m<module>\u001b[0;34m\u001b[0m\n\u001b[0;32m----> 1\u001b[0;31m \u001b[0msums_by_trial\u001b[0m \u001b[0;34m=\u001b[0m \u001b[0mbillboards_passed\u001b[0m\u001b[0;34m.\u001b[0m\u001b[0msum\u001b[0m\u001b[0;34m(\u001b[0m\u001b[0maxis\u001b[0m\u001b[0;34m=\u001b[0m\u001b[0;36m1\u001b[0m\u001b[0;34m)\u001b[0m\u001b[0;34m\u001b[0m\u001b[0;34m\u001b[0m\u001b[0m\n\u001b[0m\u001b[1;32m      2\u001b[0m \u001b[0msums_by_trial\u001b[0m\u001b[0;34m\u001b[0m\u001b[0;34m\u001b[0m\u001b[0m\n",
      "\u001b[0;32m/usr/local/anaconda3/lib/python3.9/site-packages/numpy/core/_methods.py\u001b[0m in \u001b[0;36m_sum\u001b[0;34m(a, axis, dtype, out, keepdims, initial, where)\u001b[0m\n\u001b[1;32m     45\u001b[0m def _sum(a, axis=None, dtype=None, out=None, keepdims=False,\n\u001b[1;32m     46\u001b[0m          initial=_NoValue, where=True):\n\u001b[0;32m---> 47\u001b[0;31m     \u001b[0;32mreturn\u001b[0m \u001b[0mumr_sum\u001b[0m\u001b[0;34m(\u001b[0m\u001b[0ma\u001b[0m\u001b[0;34m,\u001b[0m \u001b[0maxis\u001b[0m\u001b[0;34m,\u001b[0m \u001b[0mdtype\u001b[0m\u001b[0;34m,\u001b[0m \u001b[0mout\u001b[0m\u001b[0;34m,\u001b[0m \u001b[0mkeepdims\u001b[0m\u001b[0;34m,\u001b[0m \u001b[0minitial\u001b[0m\u001b[0;34m,\u001b[0m \u001b[0mwhere\u001b[0m\u001b[0;34m)\u001b[0m\u001b[0;34m\u001b[0m\u001b[0;34m\u001b[0m\u001b[0m\n\u001b[0m\u001b[1;32m     48\u001b[0m \u001b[0;34m\u001b[0m\u001b[0m\n\u001b[1;32m     49\u001b[0m def _prod(a, axis=None, dtype=None, out=None, keepdims=False,\n",
      "\u001b[0;31mTypeError\u001b[0m: cannot perform reduce with flexible type"
     ]
    }
   ],
   "source": [
    "sums_by_trial = billboards_passed.sum(axis=1)\n",
    "sums_by_trial\n"
   ]
  },
  {
   "cell_type": "code",
   "execution_count": 20,
   "id": "efed3ee8",
   "metadata": {},
   "outputs": [
    {
     "data": {
      "text/plain": [
       "2083"
      ]
     },
     "execution_count": 20,
     "metadata": {},
     "output_type": "execute_result"
    }
   ],
   "source": [
    "billboards_2 = sums_by_trial == 2\n",
    "billboards_2.sum()"
   ]
  },
  {
   "cell_type": "code",
   "execution_count": 21,
   "id": "a1484b18",
   "metadata": {},
   "outputs": [
    {
     "data": {
      "text/plain": [
       "20.830000000000002"
      ]
     },
     "execution_count": 21,
     "metadata": {},
     "output_type": "execute_result"
    }
   ],
   "source": [
    "billboards_2.sum() / 10000 * 100"
   ]
  },
  {
   "cell_type": "raw",
   "id": "f899200c",
   "metadata": {},
   "source": [
    "4. Codeup students buy, on average, 3 poptart packages with a standard deviation of 1.5 a day from the snack vending machine. If on monday the machine is restocked with 17 poptart packages, how likely is it that I will be able to buy some poptarts on Friday afternoon? (Remember, if you have mean and standard deviation, use the np.random.normal) You'll need to make a judgement call on how to handle some of your values"
   ]
  },
  {
   "cell_type": "raw",
   "id": "dbf48bab",
   "metadata": {},
   "source": [
    "5. Compare Heights\n",
    "-Men have an average height of 178 cm and standard deviation of 8cm.\n",
    "-Women have a mean of 170, sd = 6cm.\n",
    "-Since you have means and standard deviations, you can use np.random.normal to generate observations.\n",
    "-If a man and woman are chosen at random, what is the likelihood the woman is taller than the man?"
   ]
  },
  {
   "cell_type": "raw",
   "id": "f25bd82f",
   "metadata": {},
   "source": [
    "6. When installing anaconda on a student's computer, there's a 1 in 250 chance that the download is corrupted and the installation fails. \n",
    "-What are the odds that after having 50 students download anaconda, no one has an installation issue? 100 students?\n",
    "-What is the probability that we observe an installation issue within the first 150 students that download anaconda?\n",
    "-How likely is it that 450 students all download anaconda without an issue?"
   ]
  },
  {
   "cell_type": "raw",
   "id": "7d4df50e",
   "metadata": {},
   "source": [
    "7. There's a 70% chance on any given day that there will be at least one food truck at Travis Park. However, you haven't seen a food truck there in 3 days. \n",
    "-How unlikely is this?\n",
    "-How likely is it that a food truck will show up sometime this week?"
   ]
  },
  {
   "cell_type": "raw",
   "id": "ea6c2488",
   "metadata": {},
   "source": [
    "8. If 23 people are in the same room, what are the odds that two of them share a birthday? What if it's 20 people? 40?"
   ]
  },
  {
   "cell_type": "raw",
   "id": "35b778e6",
   "metadata": {},
   "source": [
    "PROBABILITY DISTRIBUTIONS EXERCISES\n",
    "For the following problems, use python to simulate the problem and calculate an experimental probability, then compare that to the theoretical probability."
   ]
  },
  {
   "cell_type": "raw",
   "id": "8b1f3492",
   "metadata": {},
   "source": [
    "1. A bank found that the average number of cars waiting during the noon hour at a drive-up window follows a Poisson distribution with a mean of 2 cars. Make a chart of this distribution and answer these questions concerning the probability of cars waiting at the drive-up window.\n",
    "-What is the probability that no cars drive up in the noon hour?\n",
    "-What is the probability that 3 or more cars come through the drive through?\n",
    "-How likely is it that the drive through gets at least 1 car?"
   ]
  },
  {
   "cell_type": "raw",
   "id": "e33ba364",
   "metadata": {},
   "source": [
    "2. Grades of State University graduates are normally distributed with a mean of 3.0 and a standard deviation of .3. Calculate the following:\n",
    "-What grade point average is required to be in the top 5% of the graduating class?\n",
    "-What GPA constitutes the bottom 15% of the class?\n",
    "-An eccentric alumnus left scholarship money for students in the third decile from the bottom of their class. Determine the range of the third decile. Would a student with a 2.8 grade point average qualify for this scholarship?\n",
    "-If I have a GPA of 3.5, what percentile am I in?"
   ]
  },
  {
   "cell_type": "raw",
   "id": "f055c857",
   "metadata": {},
   "source": [
    "3. A marketing website has an average click-through rate of 2%. One day they observe 4326 visitors and 97 click-throughs. How likely is it that this many people or more click through?"
   ]
  },
  {
   "cell_type": "raw",
   "id": "874ab717",
   "metadata": {},
   "source": [
    "4. You are working on some statistics homework consisting of 100 questions where all of the answers are a probability rounded to the hundreths place. Looking to save time, you put down random probabilities as the answer to each question.\n",
    "-What is the probability that at least one of your first 60 answers is correct?"
   ]
  },
  {
   "cell_type": "raw",
   "id": "bf6a702c",
   "metadata": {},
   "source": [
    "5. The codeup staff tends to get upset when the student break area is not cleaned up. Suppose that there's a 3% chance that any one student cleans the break area when they visit it, and, on any given day, about 90% of the 3 active cohorts of 22 students visit the break area. \n",
    "-How likely is it that the break area gets cleaned up each day? \n",
    "-How likely is it that it goes two days without getting cleaned up? \n",
    "-All week?"
   ]
  },
  {
   "cell_type": "raw",
   "id": "6ae6b01e",
   "metadata": {},
   "source": [
    "6. You want to get lunch at La Panaderia, but notice that the line is usually very long at lunchtime. After several weeks of careful observation, you notice that the average number of people in line when your lunch break starts is normally distributed with a mean of 15 and standard deviation of 3. \n",
    "-If it takes 2 minutes for each person to order, and 10 minutes from ordering to getting your food, what is the likelihood that you have at least 15 minutes left to eat your food before you have to go back to class? \n",
    "-Assume you have one hour for lunch, and ignore travel time to and from La Panaderia."
   ]
  },
  {
   "cell_type": "raw",
   "id": "c822459e",
   "metadata": {},
   "source": [
    "7. Connect to the employees database and find the average salary of current employees, along with the standard deviation. For the following questions, calculate the answer based on modeling the employees salaries with a normal distribution defined by the calculated mean and standard deviation then compare this answer to the actual values present in the salaries dataset.\n",
    "-What percent of employees earn less than 60,000?\n",
    "-What percent of employees earn more than 95,000?\n",
    "-What percent of employees earn between 65,000 and 80,000?\n",
    "-What do the top 5% of employees make?\n",
    "\n",
    "Hint If you're looking at this exercise and wondering \"How do I get pandas to talk the database, again?\", remember that you'll need 3 things: your .gitignore, your env.py, and to use pd.read_sql. Copy over your .gitignore and env.py from your data science libraries exercises folder, and connect to the employees database like so:\n",
    "\n",
    "import pandas as pd\n",
    "import env\n",
    "\n",
    "url = f'mysql+pymysql://{env.user}:{env.password}@{env.host}/employees'\n",
    "pd.read_sql('SELECT * FROM departments', url)"
   ]
  },
  {
   "cell_type": "raw",
   "id": "5e0f60b2",
   "metadata": {},
   "source": [
    "OVERVIEW HYPOTHESIS EXERCISES\n",
    "For each of the following questions:\n",
    "formulate a null and alternative hypothesis (be as specific as you can be), \n",
    "then give an example of what a true positive, true negative, type I and type II errors would look like. \n",
    "\n",
    "Note that some of the questions are intentionally phrased in a vague way. It is your job to reword these as more precise questions that could be tested."
   ]
  },
  {
   "cell_type": "raw",
   "id": "11f5bf66",
   "metadata": {},
   "source": [
    "-Has the network latency gone up since we switched internet service providers?\n"
   ]
  },
  {
   "cell_type": "raw",
   "id": "59176731",
   "metadata": {},
   "source": [
    "-Is the website redesign any good?\n"
   ]
  },
  {
   "cell_type": "raw",
   "id": "1d67db54",
   "metadata": {},
   "source": [
    "-Is our television ad driving more sales?"
   ]
  },
  {
   "cell_type": "raw",
   "id": "c6514f29",
   "metadata": {},
   "source": [
    "T-TEST HYPOTHESIS EXERCISES\n",
    "1. Answer with the type of test you would use (assume normal distribution):\n",
    "-Is there a difference in grades of students on the second floor compared to grades of all students?\n",
    "-Are adults who drink milk taller than adults who dont drink milk?\n",
    "-Is the the price of gas higher in texas or in new mexico?\n",
    "-Are there differences in stress levels between students who take data science vs students who take web development vs students who take cloud academy?\n",
    "\n"
   ]
  },
  {
   "cell_type": "raw",
   "id": "7e61f946",
   "metadata": {},
   "source": [
    "2. Ace Realty wants to determine whether the average time it takes to sell homes is different for its two offices. A sample of 40 sales from office #1 revealed a mean of 90 days and a standard deviation of 15 days. A sample of 50 sales from office #2 revealed a mean of 100 days and a standard deviation of 20 days. Use a .05 level of significance."
   ]
  },
  {
   "cell_type": "raw",
   "id": "f8563559",
   "metadata": {},
   "source": [
    "3. Load the mpg dataset and use it to answer the following questions:\n",
    "-Is there a difference in fuel-efficiency in cars from 2008 vs 1999?\n",
    "-Are compact cars more fuel-efficient than the average car?\n",
    "-Do manual cars get better gas mileage than automatic cars?"
   ]
  },
  {
   "cell_type": "raw",
   "id": "865a78dc",
   "metadata": {},
   "source": [
    "CORRELATION HYPOTHESIS EXERCISES\n",
    "1. Answer with the type of stats test you would use (assume normal distribution):\n",
    "-Is there a relationship between the length of your arm and the length of your foot?\n",
    "-Do guys and gals quit their jobs at the same rate?\n",
    "-Does the length of time of the lecture correlate with a students grade?\n",
    "\n",
    "2. Use the telco_churn data.\n",
    "-Does tenure correlate with monthly charges?\n",
    "-Total charges?\n",
    "-What happens if you control for phone and internet service?\n",
    "\n",
    "3. Use the employees database.\n",
    "-Is there a relationship between how long an employee has been with the company and their salary?\n",
    "-Is there a relationship between how long an employee has been with the company and the number of titles they have had?\n",
    "\n",
    "4. Use the sleepstudy data.\n",
    "-Is there a relationship between days and reaction time?"
   ]
  },
  {
   "cell_type": "raw",
   "id": "44f335ac",
   "metadata": {},
   "source": [
    "CHI SQUARED HYPOTHESIS EXERCISES\n",
    "1. Answer with the type of stats test you would use (assume normal distribution):\n",
    "-Do students get better test grades if they have a rubber duck on their desk?\n",
    "-Does smoking affect when or not someone has lung cancer?\n",
    "-Is gender independent of a person’s blood type?\n",
    "-A farming company wants to know if a new fertilizer has improved crop yield or not\n",
    "-Does the length of time of the lecture correlate with a students grade?\n",
    "-Do people with dogs live in apartments more than people with cats?"
   ]
  },
  {
   "cell_type": "raw",
   "id": "92a0438e",
   "metadata": {},
   "source": [
    "2. Use the following contingency table to help answer the question of whether using a macbook and being a codeup student are independent of each other.\n",
    "\n",
    "                       Codeup Student\t    Not Codeup Student\n",
    "Uses a Macbook\t       49\t                20\n",
    "Doesn't Use A Macbook\t1\t                30\n",
    "\n",
    "\n"
   ]
  },
  {
   "cell_type": "raw",
   "id": "c4fd9b94",
   "metadata": {},
   "source": [
    "3. Choose another 2 categorical variables from the mpg dataset and perform a chi2\n",
    "contingency table test with them. Be sure to state your null and alternative hypotheses.\n",
    "\n"
   ]
  },
  {
   "cell_type": "raw",
   "id": "7dc1d70d",
   "metadata": {},
   "source": [
    "4. Use the data from the employees database to answer these questions:\n",
    "-Is an employee's gender independent of whether an employee works in sales or marketing? (only look at current employees)\n",
    "-Is an employee's gender independent of whether or not they are or have been a manager?"
   ]
  },
  {
   "cell_type": "raw",
   "id": "5255b542",
   "metadata": {},
   "source": [
    "STATISTICAL TESTING EXAMPLES IN PYTHON EXERCISES HYPOTHESIS EXERCISES\n",
    "Choose several continous and categorical variables that were not covered in the lesson and perform each type of test on them. You may use another data set if you wish."
   ]
  }
 ],
 "metadata": {
  "kernelspec": {
   "display_name": "Python 3 (ipykernel)",
   "language": "python",
   "name": "python3"
  },
  "language_info": {
   "codemirror_mode": {
    "name": "ipython",
    "version": 3
   },
   "file_extension": ".py",
   "mimetype": "text/x-python",
   "name": "python",
   "nbconvert_exporter": "python",
   "pygments_lexer": "ipython3",
   "version": "3.9.7"
  }
 },
 "nbformat": 4,
 "nbformat_minor": 5
}
