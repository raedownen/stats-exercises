{
 "cells": [
  {
   "cell_type": "code",
   "execution_count": 1,
   "id": "a703b234",
   "metadata": {},
   "outputs": [],
   "source": [
    "import numpy as np\n",
    "import pandas as pd\n",
    "import matplotlib.pyplot as plt\n",
    "%config InlineBackend.figure_format = 'retina'\n",
    "import viz # curriculum example visualizations\n",
    "\n",
    "np.random.seed(29)"
   ]
  },
  {
   "cell_type": "raw",
   "id": "c725462a",
   "metadata": {},
   "source": [
    "Using the repo setup directions, setup a new local and remote repository named statistics-exercises. The local version of your repo should live inside of ~/codeup-data-science. This repo should be named statistics-exercises\n",
    "Do your work for this exercise in either a python file named simulation.py or a jupyter notebook named .ipynb."
   ]
  },
  {
   "cell_type": "raw",
   "id": "9e13fd5d",
   "metadata": {},
   "source": [
    "1. How likely is it that you roll doubles when rolling two dice?"
   ]
  },
  {
   "cell_type": "code",
   "execution_count": 2,
   "id": "507ce069",
   "metadata": {},
   "outputs": [
    {
     "data": {
      "text/plain": [
       "array([[6, 4],\n",
       "       [5, 6],\n",
       "       [3, 1],\n",
       "       ...,\n",
       "       [2, 5],\n",
       "       [1, 4],\n",
       "       [4, 6]])"
      ]
     },
     "execution_count": 2,
     "metadata": {},
     "output_type": "execute_result"
    }
   ],
   "source": [
    "n_trials = nrows = 10_000\n",
    "n_dice = ncols = 2\n",
    "\n",
    "rolls = np.random.choice([1, 2, 3, 4, 5, 6], size = (n_trials, n_dice))\n",
    "rolls"
   ]
  },
  {
   "cell_type": "code",
   "execution_count": 3,
   "id": "4636b81d",
   "metadata": {},
   "outputs": [],
   "source": [
    "#rolls = np.random.choice([1, 2, 3, 4, 5, 6], size = (100000, 2))\n",
    "#rolls\n",
    "\n",
    "#(rolls[:,0] == rolls[:,1]).mean()\n",
    "\n",
    "#roll1 = np.random.choice([1,2,3,4,6,]), size = (100000,1)\n",
    "#roll2 = np.random.choice([1,2,3,4,6,]), size = (100000,1)\n",
    "\n",
    "#(roll1 ==roll2).mean()"
   ]
  },
  {
   "cell_type": "code",
   "execution_count": 4,
   "id": "6af6248f",
   "metadata": {},
   "outputs": [
    {
     "data": {
      "text/html": [
       "<div>\n",
       "<style scoped>\n",
       "    .dataframe tbody tr th:only-of-type {\n",
       "        vertical-align: middle;\n",
       "    }\n",
       "\n",
       "    .dataframe tbody tr th {\n",
       "        vertical-align: top;\n",
       "    }\n",
       "\n",
       "    .dataframe thead th {\n",
       "        text-align: right;\n",
       "    }\n",
       "</style>\n",
       "<table border=\"1\" class=\"dataframe\">\n",
       "  <thead>\n",
       "    <tr style=\"text-align: right;\">\n",
       "      <th></th>\n",
       "      <th>roll_1</th>\n",
       "      <th>roll_2</th>\n",
       "    </tr>\n",
       "  </thead>\n",
       "  <tbody>\n",
       "    <tr>\n",
       "      <th>0</th>\n",
       "      <td>6</td>\n",
       "      <td>4</td>\n",
       "    </tr>\n",
       "    <tr>\n",
       "      <th>1</th>\n",
       "      <td>5</td>\n",
       "      <td>6</td>\n",
       "    </tr>\n",
       "    <tr>\n",
       "      <th>2</th>\n",
       "      <td>3</td>\n",
       "      <td>1</td>\n",
       "    </tr>\n",
       "    <tr>\n",
       "      <th>3</th>\n",
       "      <td>1</td>\n",
       "      <td>2</td>\n",
       "    </tr>\n",
       "    <tr>\n",
       "      <th>4</th>\n",
       "      <td>2</td>\n",
       "      <td>1</td>\n",
       "    </tr>\n",
       "  </tbody>\n",
       "</table>\n",
       "</div>"
      ],
      "text/plain": [
       "   roll_1  roll_2\n",
       "0       6       4\n",
       "1       5       6\n",
       "2       3       1\n",
       "3       1       2\n",
       "4       2       1"
      ]
     },
     "execution_count": 4,
     "metadata": {},
     "output_type": "execute_result"
    }
   ],
   "source": [
    "rolls_df = pd.DataFrame(rolls, columns=['roll_1', 'roll_2'])\n",
    "rolls_df.head()"
   ]
  },
  {
   "cell_type": "code",
   "execution_count": 5,
   "id": "010f01cb",
   "metadata": {},
   "outputs": [
    {
     "data": {
      "text/plain": [
       "0    False\n",
       "1    False\n",
       "2    False\n",
       "3    False\n",
       "4    False\n",
       "Name: doubles, dtype: bool"
      ]
     },
     "execution_count": 5,
     "metadata": {},
     "output_type": "execute_result"
    }
   ],
   "source": [
    "rolls_df['doubles'] = rolls_df['roll_1'] == rolls_df['roll_2']\n",
    "\n",
    "rolls_df['doubles'].head()"
   ]
  },
  {
   "cell_type": "code",
   "execution_count": 6,
   "id": "88c12d20",
   "metadata": {},
   "outputs": [
    {
     "data": {
      "text/plain": [
       "9995    False\n",
       "9996    False\n",
       "9997    False\n",
       "9998    False\n",
       "9999    False\n",
       "Name: doubles, dtype: bool"
      ]
     },
     "execution_count": 6,
     "metadata": {},
     "output_type": "execute_result"
    }
   ],
   "source": [
    "rolls_df['doubles'] = rolls_df['roll_1'] == rolls_df['roll_2']\n",
    "\n",
    "rolls_df['doubles'].tail()"
   ]
  },
  {
   "cell_type": "code",
   "execution_count": 7,
   "id": "e216a781",
   "metadata": {},
   "outputs": [
    {
     "data": {
      "text/plain": [
       "1709"
      ]
     },
     "execution_count": 7,
     "metadata": {},
     "output_type": "execute_result"
    }
   ],
   "source": [
    "rolls_df['doubles'].sum()"
   ]
  },
  {
   "cell_type": "code",
   "execution_count": 8,
   "id": "bb2b55da",
   "metadata": {},
   "outputs": [
    {
     "data": {
      "text/plain": [
       "10000"
      ]
     },
     "execution_count": 8,
     "metadata": {},
     "output_type": "execute_result"
    }
   ],
   "source": [
    "rolls_df['doubles'].count()"
   ]
  },
  {
   "cell_type": "code",
   "execution_count": 9,
   "id": "41353812",
   "metadata": {},
   "outputs": [
    {
     "data": {
      "text/plain": [
       "17.09"
      ]
     },
     "execution_count": 9,
     "metadata": {},
     "output_type": "execute_result"
    }
   ],
   "source": [
    "how_likely = rolls_df['doubles'].sum()/rolls_df['doubles'].count()\n",
    "\n",
    "how_likely * 100"
   ]
  },
  {
   "cell_type": "raw",
   "id": "3ceec3b4",
   "metadata": {},
   "source": [
    "2. If you flip 8 coins, what is the probability of getting exactly 3 heads? What is the probability of getting more than 3 heads?"
   ]
  },
  {
   "cell_type": "code",
   "execution_count": 10,
   "id": "3d830607",
   "metadata": {},
   "outputs": [],
   "source": [
    "#flips = np.random.choice([0, 1], size = (1000000, 8))\n",
    "#flips\n",
    "\n",
    "#flips.sum(axis = 1)"
   ]
  },
  {
   "cell_type": "code",
   "execution_count": 11,
   "id": "c5376362",
   "metadata": {},
   "outputs": [
    {
     "data": {
      "text/plain": [
       "array([[0, 0, 0, ..., 0, 1, 1],\n",
       "       [0, 0, 1, ..., 1, 1, 0],\n",
       "       [1, 0, 1, ..., 1, 1, 1],\n",
       "       ...,\n",
       "       [0, 1, 0, ..., 1, 1, 0],\n",
       "       [1, 0, 0, ..., 1, 1, 1],\n",
       "       [1, 0, 0, ..., 0, 1, 0]])"
      ]
     },
     "execution_count": 11,
     "metadata": {},
     "output_type": "execute_result"
    }
   ],
   "source": [
    "n_trials = nrows = 10000\n",
    "n_coins = ncols = 8\n",
    "\n",
    "flips = np.random.choice([0, 1], size = (n_trials, n_coins))\n",
    "flips"
   ]
  },
  {
   "cell_type": "code",
   "execution_count": 12,
   "id": "ca2105d2",
   "metadata": {},
   "outputs": [
    {
     "data": {
      "text/html": [
       "<div>\n",
       "<style scoped>\n",
       "    .dataframe tbody tr th:only-of-type {\n",
       "        vertical-align: middle;\n",
       "    }\n",
       "\n",
       "    .dataframe tbody tr th {\n",
       "        vertical-align: top;\n",
       "    }\n",
       "\n",
       "    .dataframe thead th {\n",
       "        text-align: right;\n",
       "    }\n",
       "</style>\n",
       "<table border=\"1\" class=\"dataframe\">\n",
       "  <thead>\n",
       "    <tr style=\"text-align: right;\">\n",
       "      <th></th>\n",
       "      <th>flip_1</th>\n",
       "      <th>flip_2</th>\n",
       "      <th>flip_3</th>\n",
       "      <th>flip_4</th>\n",
       "      <th>flip_5</th>\n",
       "      <th>flip_6</th>\n",
       "      <th>flip_7</th>\n",
       "      <th>flip_8</th>\n",
       "    </tr>\n",
       "  </thead>\n",
       "  <tbody>\n",
       "    <tr>\n",
       "      <th>0</th>\n",
       "      <td>0</td>\n",
       "      <td>0</td>\n",
       "      <td>0</td>\n",
       "      <td>0</td>\n",
       "      <td>1</td>\n",
       "      <td>0</td>\n",
       "      <td>1</td>\n",
       "      <td>1</td>\n",
       "    </tr>\n",
       "    <tr>\n",
       "      <th>1</th>\n",
       "      <td>0</td>\n",
       "      <td>0</td>\n",
       "      <td>1</td>\n",
       "      <td>1</td>\n",
       "      <td>1</td>\n",
       "      <td>1</td>\n",
       "      <td>1</td>\n",
       "      <td>0</td>\n",
       "    </tr>\n",
       "    <tr>\n",
       "      <th>2</th>\n",
       "      <td>1</td>\n",
       "      <td>0</td>\n",
       "      <td>1</td>\n",
       "      <td>0</td>\n",
       "      <td>1</td>\n",
       "      <td>1</td>\n",
       "      <td>1</td>\n",
       "      <td>1</td>\n",
       "    </tr>\n",
       "    <tr>\n",
       "      <th>3</th>\n",
       "      <td>0</td>\n",
       "      <td>1</td>\n",
       "      <td>0</td>\n",
       "      <td>0</td>\n",
       "      <td>0</td>\n",
       "      <td>0</td>\n",
       "      <td>1</td>\n",
       "      <td>1</td>\n",
       "    </tr>\n",
       "    <tr>\n",
       "      <th>4</th>\n",
       "      <td>1</td>\n",
       "      <td>0</td>\n",
       "      <td>0</td>\n",
       "      <td>1</td>\n",
       "      <td>0</td>\n",
       "      <td>0</td>\n",
       "      <td>1</td>\n",
       "      <td>1</td>\n",
       "    </tr>\n",
       "  </tbody>\n",
       "</table>\n",
       "</div>"
      ],
      "text/plain": [
       "   flip_1  flip_2  flip_3  flip_4  flip_5  flip_6  flip_7  flip_8\n",
       "0       0       0       0       0       1       0       1       1\n",
       "1       0       0       1       1       1       1       1       0\n",
       "2       1       0       1       0       1       1       1       1\n",
       "3       0       1       0       0       0       0       1       1\n",
       "4       1       0       0       1       0       0       1       1"
      ]
     },
     "execution_count": 12,
     "metadata": {},
     "output_type": "execute_result"
    }
   ],
   "source": [
    "flips_df = pd.DataFrame(flips, columns=['flip_1', 'flip_2', 'flip_3','flip_4','flip_5','flip_6','flip_7','flip_8'])\n",
    "flips_df.head()"
   ]
  },
  {
   "cell_type": "code",
   "execution_count": 13,
   "id": "93b5030e",
   "metadata": {},
   "outputs": [
    {
     "data": {
      "text/plain": [
       "0    3\n",
       "1    5\n",
       "2    6\n",
       "3    3\n",
       "4    4\n",
       "Name: row_total, dtype: int64"
      ]
     },
     "execution_count": 13,
     "metadata": {},
     "output_type": "execute_result"
    }
   ],
   "source": [
    "flips_df['row_total'] = flips_df.sum(axis = 1)\n",
    "\n",
    "flips_df['row_total'].head()"
   ]
  },
  {
   "cell_type": "code",
   "execution_count": 14,
   "id": "bbe7aece",
   "metadata": {},
   "outputs": [
    {
     "data": {
      "text/plain": [
       "2243"
      ]
     },
     "execution_count": 14,
     "metadata": {},
     "output_type": "execute_result"
    }
   ],
   "source": [
    "sum(flips_df['row_total'] == 3)"
   ]
  },
  {
   "cell_type": "code",
   "execution_count": 15,
   "id": "6c3e5f9b",
   "metadata": {},
   "outputs": [
    {
     "data": {
      "text/plain": [
       "22.43"
      ]
     },
     "execution_count": 15,
     "metadata": {},
     "output_type": "execute_result"
    }
   ],
   "source": [
    "sum(flips_df['row_total'] == 3)/10000 * 100"
   ]
  },
  {
   "cell_type": "code",
   "execution_count": 16,
   "id": "a302a453",
   "metadata": {},
   "outputs": [
    {
     "data": {
      "text/plain": [
       "6313"
      ]
     },
     "execution_count": 16,
     "metadata": {},
     "output_type": "execute_result"
    }
   ],
   "source": [
    "sum(flips_df['row_total'] > 3)"
   ]
  },
  {
   "cell_type": "code",
   "execution_count": 17,
   "id": "e4b5ef94",
   "metadata": {},
   "outputs": [
    {
     "data": {
      "text/plain": [
       "63.129999999999995"
      ]
     },
     "execution_count": 17,
     "metadata": {},
     "output_type": "execute_result"
    }
   ],
   "source": [
    "sum(flips_df['row_total'] > 3)/10000 * 100"
   ]
  },
  {
   "cell_type": "raw",
   "id": "ad73229c",
   "metadata": {},
   "source": [
    "3. There are approximitely 3 web development cohorts for every 1 data science cohort at Codeup. Assuming that Codeup randomly selects an alumni to put on a billboard, what are the odds that the two billboards I drive past both have data science students on them?"
   ]
  },
  {
   "cell_type": "code",
   "execution_count": 18,
   "id": "b9127ef7",
   "metadata": {},
   "outputs": [],
   "source": [
    "#bb = np.random.choice([0,1], size = (10000, 2), p = [0.75, 0.25]"
   ]
  },
  {
   "cell_type": "code",
   "execution_count": 19,
   "id": "4deccbdc",
   "metadata": {},
   "outputs": [],
   "source": [
    "n_trials = nrows = 10000\n",
    "n_billboards_passed = ncols = 2\n",
    "\n",
    "passed = np.random.choice(['ds','wb','wb', 'wb'], size = (n_trials, n_billboards_passed))"
   ]
  },
  {
   "cell_type": "code",
   "execution_count": 20,
   "id": "d17050de",
   "metadata": {},
   "outputs": [
    {
     "data": {
      "text/html": [
       "<div>\n",
       "<style scoped>\n",
       "    .dataframe tbody tr th:only-of-type {\n",
       "        vertical-align: middle;\n",
       "    }\n",
       "\n",
       "    .dataframe tbody tr th {\n",
       "        vertical-align: top;\n",
       "    }\n",
       "\n",
       "    .dataframe thead th {\n",
       "        text-align: right;\n",
       "    }\n",
       "</style>\n",
       "<table border=\"1\" class=\"dataframe\">\n",
       "  <thead>\n",
       "    <tr style=\"text-align: right;\">\n",
       "      <th></th>\n",
       "      <th>B1</th>\n",
       "      <th>B2</th>\n",
       "    </tr>\n",
       "  </thead>\n",
       "  <tbody>\n",
       "    <tr>\n",
       "      <th>0</th>\n",
       "      <td>wb</td>\n",
       "      <td>ds</td>\n",
       "    </tr>\n",
       "    <tr>\n",
       "      <th>1</th>\n",
       "      <td>wb</td>\n",
       "      <td>wb</td>\n",
       "    </tr>\n",
       "    <tr>\n",
       "      <th>2</th>\n",
       "      <td>wb</td>\n",
       "      <td>wb</td>\n",
       "    </tr>\n",
       "    <tr>\n",
       "      <th>3</th>\n",
       "      <td>wb</td>\n",
       "      <td>wb</td>\n",
       "    </tr>\n",
       "    <tr>\n",
       "      <th>4</th>\n",
       "      <td>ds</td>\n",
       "      <td>wb</td>\n",
       "    </tr>\n",
       "  </tbody>\n",
       "</table>\n",
       "</div>"
      ],
      "text/plain": [
       "   B1  B2\n",
       "0  wb  ds\n",
       "1  wb  wb\n",
       "2  wb  wb\n",
       "3  wb  wb\n",
       "4  ds  wb"
      ]
     },
     "execution_count": 20,
     "metadata": {},
     "output_type": "execute_result"
    }
   ],
   "source": [
    "passed_df = pd.DataFrame(passed, columns=['B1', 'B2'])\n",
    "passed_df.head()"
   ]
  },
  {
   "cell_type": "code",
   "execution_count": 21,
   "id": "185db808",
   "metadata": {},
   "outputs": [
    {
     "data": {
      "text/html": [
       "<div>\n",
       "<style scoped>\n",
       "    .dataframe tbody tr th:only-of-type {\n",
       "        vertical-align: middle;\n",
       "    }\n",
       "\n",
       "    .dataframe tbody tr th {\n",
       "        vertical-align: top;\n",
       "    }\n",
       "\n",
       "    .dataframe thead th {\n",
       "        text-align: right;\n",
       "    }\n",
       "</style>\n",
       "<table border=\"1\" class=\"dataframe\">\n",
       "  <thead>\n",
       "    <tr style=\"text-align: right;\">\n",
       "      <th></th>\n",
       "      <th>B1</th>\n",
       "      <th>B2</th>\n",
       "      <th>Data_science</th>\n",
       "    </tr>\n",
       "  </thead>\n",
       "  <tbody>\n",
       "    <tr>\n",
       "      <th>0</th>\n",
       "      <td>wb</td>\n",
       "      <td>ds</td>\n",
       "      <td>False</td>\n",
       "    </tr>\n",
       "    <tr>\n",
       "      <th>1</th>\n",
       "      <td>wb</td>\n",
       "      <td>wb</td>\n",
       "      <td>False</td>\n",
       "    </tr>\n",
       "    <tr>\n",
       "      <th>2</th>\n",
       "      <td>wb</td>\n",
       "      <td>wb</td>\n",
       "      <td>False</td>\n",
       "    </tr>\n",
       "    <tr>\n",
       "      <th>3</th>\n",
       "      <td>wb</td>\n",
       "      <td>wb</td>\n",
       "      <td>False</td>\n",
       "    </tr>\n",
       "    <tr>\n",
       "      <th>4</th>\n",
       "      <td>ds</td>\n",
       "      <td>wb</td>\n",
       "      <td>False</td>\n",
       "    </tr>\n",
       "  </tbody>\n",
       "</table>\n",
       "</div>"
      ],
      "text/plain": [
       "   B1  B2  Data_science\n",
       "0  wb  ds         False\n",
       "1  wb  wb         False\n",
       "2  wb  wb         False\n",
       "3  wb  wb         False\n",
       "4  ds  wb         False"
      ]
     },
     "execution_count": 21,
     "metadata": {},
     "output_type": "execute_result"
    }
   ],
   "source": [
    "passed_df['Data_science'] = (passed_df['B1'] == 'ds') & (passed_df['B2'] == 'ds')\n",
    "\n",
    "passed_df.head()"
   ]
  },
  {
   "cell_type": "code",
   "execution_count": 22,
   "id": "384b0f87",
   "metadata": {},
   "outputs": [
    {
     "data": {
      "text/plain": [
       "B1              wbwbwbwbdsdswbwbwbdswbwbwbwbwbwbwbwbwbwbwbwbwb...\n",
       "B2              dswbwbwbwbwbwbwbdsdswbdswbwbwbdsdswbwbwbwbdswb...\n",
       "Data_science                                                  608\n",
       "dtype: object"
      ]
     },
     "execution_count": 22,
     "metadata": {},
     "output_type": "execute_result"
    }
   ],
   "source": [
    "passed_df.sum()"
   ]
  },
  {
   "cell_type": "code",
   "execution_count": 23,
   "id": "8c1b635c",
   "metadata": {},
   "outputs": [
    {
     "data": {
      "text/plain": [
       "6.08"
      ]
     },
     "execution_count": 23,
     "metadata": {},
     "output_type": "execute_result"
    }
   ],
   "source": [
    "passed_df['Data_science'].sum()/10000 * 100"
   ]
  },
  {
   "cell_type": "raw",
   "id": "300d76eb",
   "metadata": {},
   "source": [
    "4. Codeup students buy, on average, 3 poptart packages with a standard deviation of 1.5 a day from the snack vending machine. If on Monday the machine is restocked with 17 poptart packages, how likely is it that I will be able to buy some poptarts on Friday afternoon? (Remember, if you have mean and standard deviation, use the np.random.normal) You'll need to make a judgement call on how to handle some of your values"
   ]
  },
  {
   "cell_type": "code",
   "execution_count": 24,
   "id": "ce03134c",
   "metadata": {},
   "outputs": [],
   "source": [
    "mu = 3\n",
    "sigma = 1.5\n"
   ]
  },
  {
   "cell_type": "raw",
   "id": "ed43cfc5",
   "metadata": {},
   "source": [
    "numpy.random.normal(m,s,n)\n",
    "Parameters\n",
    "The random.normal function takes in three parameters:\n",
    "\n",
    "m: the mean of the normal distribution.\n",
    "s: the standard deviation of the distribution.\n",
    "n: the total number of samples to be drawn."
   ]
  },
  {
   "cell_type": "code",
   "execution_count": 25,
   "id": "c338c2a7",
   "metadata": {},
   "outputs": [
    {
     "data": {
      "text/plain": [
       "13.97391339380923"
      ]
     },
     "execution_count": 25,
     "metadata": {},
     "output_type": "execute_result"
    }
   ],
   "source": [
    "poptarts = np.random.normal(3, 1.5, 5)\n",
    "\n",
    "poptarts.sum()"
   ]
  },
  {
   "cell_type": "code",
   "execution_count": 26,
   "id": "7b47dfa1",
   "metadata": {},
   "outputs": [
    {
     "data": {
      "text/plain": [
       "array([[ 3.79610758,  5.58941489,  3.72683434,  1.80951196,  1.71428793],\n",
       "       [ 4.44930284,  3.61403569,  1.58571653,  2.21080262,  3.64434626],\n",
       "       [ 3.410062  ,  4.04348128,  6.62322389,  0.08737874,  4.55048173],\n",
       "       ...,\n",
       "       [ 4.23381359,  3.92889581, -0.2361074 ,  2.0350713 ,  2.37549413],\n",
       "       [ 2.9370665 ,  2.38902903,  3.45125795,  1.44752452, -0.33698129],\n",
       "       [ 1.47003674,  3.69017579,  2.99519652,  0.76294329,  2.42015548]])"
      ]
     },
     "execution_count": 26,
     "metadata": {},
     "output_type": "execute_result"
    }
   ],
   "source": [
    "pop = np.random.normal(3, 1.5, size = (10000, 5))\n",
    "pop"
   ]
  },
  {
   "cell_type": "code",
   "execution_count": 27,
   "id": "985766ad",
   "metadata": {},
   "outputs": [
    {
     "data": {
      "text/plain": [
       "array([False,  True, False, ...,  True,  True,  True])"
      ]
     },
     "execution_count": 27,
     "metadata": {},
     "output_type": "execute_result"
    }
   ],
   "source": [
    "pop.sum(axis = 1) <= 16"
   ]
  },
  {
   "cell_type": "code",
   "execution_count": 28,
   "id": "7d29f571",
   "metadata": {},
   "outputs": [
    {
     "data": {
      "text/plain": [
       "0.6148"
      ]
     },
     "execution_count": 28,
     "metadata": {},
     "output_type": "execute_result"
    }
   ],
   "source": [
    "(pop.sum(axis = 1) <= 16).mean()"
   ]
  },
  {
   "cell_type": "raw",
   "id": "0c182e00",
   "metadata": {},
   "source": [
    "3 POPTARTS FOR YOU!"
   ]
  },
  {
   "cell_type": "raw",
   "id": "6b631a98",
   "metadata": {},
   "source": [
    "5. Compare Heights\n",
    "-Men have an average height of 178 cm and standard deviation of 8cm.\n",
    "-Women have a mean of 170, sd = 6cm.\n",
    "-Since you have means and standard deviations, you can use np.random.normal to generate observations.\n",
    "-If a man and woman are chosen at random, what is the likelihood the woman is taller than the man?"
   ]
  },
  {
   "cell_type": "code",
   "execution_count": 29,
   "id": "b93061de",
   "metadata": {},
   "outputs": [
    {
     "data": {
      "text/plain": [
       "array([175.69210271, 196.62699387, 171.50958005, ..., 168.9571254 ,\n",
       "       170.12055696, 185.76242379])"
      ]
     },
     "execution_count": 29,
     "metadata": {},
     "output_type": "execute_result"
    }
   ],
   "source": [
    "male = np.random.normal(size = 10000, loc = 178, scale = 8)\n",
    "male"
   ]
  },
  {
   "cell_type": "code",
   "execution_count": 30,
   "id": "ea8a3bfe",
   "metadata": {},
   "outputs": [
    {
     "data": {
      "text/plain": [
       "array([176.15763806, 175.20157551, 174.75314091, ..., 169.13888136,\n",
       "       165.88595468, 167.04212711])"
      ]
     },
     "execution_count": 30,
     "metadata": {},
     "output_type": "execute_result"
    }
   ],
   "source": [
    "female = np.random.normal(size = 10000, loc = 170, scale = 6)\n",
    "female"
   ]
  },
  {
   "cell_type": "code",
   "execution_count": 31,
   "id": "3440707d",
   "metadata": {},
   "outputs": [
    {
     "data": {
      "text/plain": [
       "0.2138"
      ]
     },
     "execution_count": 31,
     "metadata": {},
     "output_type": "execute_result"
    }
   ],
   "source": [
    "(female > male).mean()"
   ]
  },
  {
   "cell_type": "raw",
   "id": "0e84419d",
   "metadata": {},
   "source": [
    "6. When installing anaconda on a student's computer, there's a 1 in 250 chance that the download is corrupted and the installation fails. What are the odds that after having 50 students download anaconda, no one has an installation issue? 100 students?\n",
    "What is the probability that we observe an installation issue within the first 150 students that download anaconda?\n",
    "How likely is it that 450 students all download anaconda without an issue?"
   ]
  },
  {
   "cell_type": "code",
   "execution_count": 32,
   "id": "8a88c4e3",
   "metadata": {},
   "outputs": [
    {
     "data": {
      "text/plain": [
       "array([[0, 0, 0, ..., 0, 0, 0],\n",
       "       [0, 0, 0, ..., 0, 0, 0],\n",
       "       [0, 0, 0, ..., 0, 0, 0],\n",
       "       ...,\n",
       "       [0, 0, 0, ..., 0, 0, 0],\n",
       "       [0, 0, 0, ..., 0, 0, 0],\n",
       "       [0, 0, 0, ..., 0, 0, 0]])"
      ]
     },
     "execution_count": 32,
     "metadata": {},
     "output_type": "execute_result"
    }
   ],
   "source": [
    "# 0 = no issues, 1 = issue\n",
    "install = np.random.choice([0,1], size = (10000, 50), p = [249/250, 1/250])\n",
    "install\n"
   ]
  },
  {
   "cell_type": "code",
   "execution_count": 33,
   "id": "85cc85e7",
   "metadata": {},
   "outputs": [],
   "source": [
    "fail = 1/250\n",
    "failed_fif = (np.random.random((10000,50)) > fail).prod(axis = 1).mean()\n",
    "fail_hun = (np.random.random((10000, 100)) > fail).prod(axis=1).mean()\n",
    "fail_hunfif = (np.random.random((10000, 150)) > fail).prod(axis=1).mean()\n",
    "fail_fourfif = (np.random.random((10000, 450)) > fail).prod(axis=1).mean()"
   ]
  },
  {
   "cell_type": "code",
   "execution_count": 34,
   "id": "597599a2",
   "metadata": {},
   "outputs": [
    {
     "data": {
      "text/plain": [
       "81.22"
      ]
     },
     "execution_count": 34,
     "metadata": {},
     "output_type": "execute_result"
    }
   ],
   "source": [
    "failed_fif * 100"
   ]
  },
  {
   "cell_type": "code",
   "execution_count": 35,
   "id": "a5e41bfe",
   "metadata": {},
   "outputs": [
    {
     "data": {
      "text/plain": [
       "66.77"
      ]
     },
     "execution_count": 35,
     "metadata": {},
     "output_type": "execute_result"
    }
   ],
   "source": [
    "fail_hun * 100"
   ]
  },
  {
   "cell_type": "code",
   "execution_count": 36,
   "id": "ba63ee6f",
   "metadata": {},
   "outputs": [
    {
     "data": {
      "text/plain": [
       "54.52"
      ]
     },
     "execution_count": 36,
     "metadata": {},
     "output_type": "execute_result"
    }
   ],
   "source": [
    "fail_hunfif * 100"
   ]
  },
  {
   "cell_type": "code",
   "execution_count": 37,
   "id": "1acd3dd1",
   "metadata": {},
   "outputs": [
    {
     "data": {
      "text/plain": [
       "17.01"
      ]
     },
     "execution_count": 37,
     "metadata": {},
     "output_type": "execute_result"
    }
   ],
   "source": [
    "fail_fourfif * 100"
   ]
  },
  {
   "cell_type": "raw",
   "id": "8bc6ebd8",
   "metadata": {},
   "source": [
    "7. There's a 70% chance on any given day that there will be at least one food truck at Travis Park. However, you haven't seen a food truck there in 3 days. How unlikely is this?\n",
    "How likely is it that a food truck will show up sometime this week?"
   ]
  },
  {
   "cell_type": "code",
   "execution_count": 38,
   "id": "a0ff103e",
   "metadata": {},
   "outputs": [
    {
     "data": {
      "text/plain": [
       "array([[1, 1, 1],\n",
       "       [1, 1, 1],\n",
       "       [1, 1, 0],\n",
       "       ...,\n",
       "       [1, 1, 0],\n",
       "       [0, 1, 1],\n",
       "       [0, 1, 1]])"
      ]
     },
     "execution_count": 38,
     "metadata": {},
     "output_type": "execute_result"
    }
   ],
   "source": [
    "trucks = np.random.choice([0,1], size = (10000, 3), p = [0.3, 0.7])\n",
    "trucks"
   ]
  },
  {
   "cell_type": "code",
   "execution_count": 39,
   "id": "4c06f403",
   "metadata": {},
   "outputs": [
    {
     "data": {
      "text/plain": [
       "0.0262"
      ]
     },
     "execution_count": 39,
     "metadata": {},
     "output_type": "execute_result"
    }
   ],
   "source": [
    "(trucks.sum(axis = 1) == 0).mean()"
   ]
  },
  {
   "cell_type": "code",
   "execution_count": 40,
   "id": "00408153",
   "metadata": {},
   "outputs": [
    {
     "data": {
      "text/plain": [
       "array([[1, 1, 1, 1, 1],\n",
       "       [1, 0, 1, 1, 1],\n",
       "       [1, 0, 0, 1, 1],\n",
       "       ...,\n",
       "       [0, 1, 1, 1, 1],\n",
       "       [0, 0, 1, 0, 0],\n",
       "       [0, 1, 0, 1, 0]])"
      ]
     },
     "execution_count": 40,
     "metadata": {},
     "output_type": "execute_result"
    }
   ],
   "source": [
    "trucks1 = np.random.choice([0,1], size = (10000, 5), p = [0.3, 0.7])\n",
    "trucks1"
   ]
  },
  {
   "cell_type": "code",
   "execution_count": 41,
   "id": "ae48f2f8",
   "metadata": {},
   "outputs": [
    {
     "data": {
      "text/plain": [
       "0.9973"
      ]
     },
     "execution_count": 41,
     "metadata": {},
     "output_type": "execute_result"
    }
   ],
   "source": [
    "(trucks1.sum(axis = 1) >= 1).mean()"
   ]
  },
  {
   "cell_type": "code",
   "execution_count": 42,
   "id": "3be63a66",
   "metadata": {},
   "outputs": [
    {
     "data": {
      "text/plain": [
       "array([[1],\n",
       "       [1],\n",
       "       [0],\n",
       "       [0],\n",
       "       [1],\n",
       "       [0],\n",
       "       [0]])"
      ]
     },
     "execution_count": 42,
     "metadata": {},
     "output_type": "execute_result"
    }
   ],
   "source": [
    "n_trials = nrows = 7\n",
    "n_truck = ncols = 1\n",
    "\n",
    "present = np.random.choice([0, 1], size = (n_trials, n_truck))\n",
    "present"
   ]
  },
  {
   "cell_type": "raw",
   "id": "a644b0d4",
   "metadata": {},
   "source": [
    "8. If 23 people are in the same room, what are the odds that two of them share a birthday? What if it's 20 people? 40?"
   ]
  },
  {
   "cell_type": "code",
   "execution_count": 46,
   "id": "6039ed86",
   "metadata": {},
   "outputs": [
    {
     "data": {
      "text/plain": [
       "array([[185, 345, 205, ..., 125,  92, 213],\n",
       "       [302,  94, 158, ..., 198, 156, 296],\n",
       "       [112, 221, 362, ..., 172,  29, 344],\n",
       "       ...,\n",
       "       [120, 356, 146, ..., 259,  55, 248],\n",
       "       [179,  83, 184, ...,  16,  49, 175],\n",
       "       [183, 167, 314, ..., 144, 283, 193]])"
      ]
     },
     "execution_count": 46,
     "metadata": {},
     "output_type": "execute_result"
    }
   ],
   "source": [
    "bd = np.random.choice(range(1,366), size = (10000, 23))\n",
    "bd"
   ]
  },
  {
   "cell_type": "code",
   "execution_count": 47,
   "id": "fc49b1db",
   "metadata": {},
   "outputs": [],
   "source": [
    "odds_23 = 2/23\n",
    "odds_20 = 2/20\n",
    "odds_40 = 2/40"
   ]
  },
  {
   "cell_type": "code",
   "execution_count": 48,
   "id": "48bacef6",
   "metadata": {},
   "outputs": [
    {
     "data": {
      "text/plain": [
       "1.0"
      ]
     },
     "execution_count": 48,
     "metadata": {},
     "output_type": "execute_result"
    }
   ],
   "source": [
    "o23 = (np.random.choice((23,2)) > odds_23).prod(axis = 0).mean()\n",
    "o23"
   ]
  },
  {
   "cell_type": "code",
   "execution_count": 49,
   "id": "30554d20",
   "metadata": {},
   "outputs": [
    {
     "data": {
      "text/plain": [
       "0.75"
      ]
     },
     "execution_count": 49,
     "metadata": {},
     "output_type": "execute_result"
    }
   ],
   "source": [
    "o20 = (np.random.random((20,2)) > odds_20).prod(axis = 1).mean()\n",
    "o20"
   ]
  },
  {
   "cell_type": "code",
   "execution_count": 50,
   "id": "c45e7bc8",
   "metadata": {},
   "outputs": [
    {
     "data": {
      "text/plain": [
       "0.875"
      ]
     },
     "execution_count": 50,
     "metadata": {},
     "output_type": "execute_result"
    }
   ],
   "source": [
    "o40 = (np.random.random((40,2)) > odds_40).prod(axis = 1).mean()\n",
    "o40"
   ]
  }
 ],
 "metadata": {
  "kernelspec": {
   "display_name": "Python 3 (ipykernel)",
   "language": "python",
   "name": "python3"
  },
  "language_info": {
   "codemirror_mode": {
    "name": "ipython",
    "version": 3
   },
   "file_extension": ".py",
   "mimetype": "text/x-python",
   "name": "python",
   "nbconvert_exporter": "python",
   "pygments_lexer": "ipython3",
   "version": "3.9.12"
  }
 },
 "nbformat": 4,
 "nbformat_minor": 5
}
