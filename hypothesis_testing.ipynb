{
 "cells": [
  {
   "cell_type": "raw",
   "id": "e1999322",
   "metadata": {},
   "source": [
    "1. Has the network latency gone up since we switched internet service providers?\n",
    "H0: There is no difference in network latency(avg_latency_speed, numeric, continuous) since we switched ISP(before_after, boolean, discrete).The mean latency of A(1st) is equal to the mean latency of B(2nd).\n",
    "\n",
    "HA: There is an increase in network latency since we switched ISP. The mean latency of B\n",
    "\n",
    "TEST:(numeric x boolean), comparison of means(t-test) across the switch.\n",
    "\n",
    "(HA is True, Accept HA) = true positive (P(Reject H0 when H0 is false)) \n",
    "Latency went up and we said it did.\n",
    "\n",
    "(H0 is True, Accept H0) = true negative (P(We observed this result due to chance | H0 is true) Failed to reject H0, when H0 is true. \n",
    "Latency didn't go up and we said it didn't go up.\n",
    "\n",
    "(H0 is True, Accept HA) = false positive = type I error (P(FP) = P(Type I Error)) A type I error is when we reject the null hypothesis, but, in reality, the null hypothesis is true.\n",
    "Latency didn't go up, but we said it did.\n",
    "\n",
    "(HA is true, Accept H0) = false negative = type II error (P(FN) = P(Type II Error)) A type II error is when we fail to reject the null hypothesis when it is actually false.Latency did go up, but we said it didn't."
   ]
  },
  {
   "cell_type": "raw",
   "id": "3ed2f014",
   "metadata": {},
   "source": [
    "2. Is the website redesign any good?\n",
    "H0: There is no difference in the number of visits(avg_number_visits, numeric, continuous) due to the new website design(new_old, boolean, discrete).The average time on the old website >= new \n",
    "HA: There is an increase in the number of visits due to the new website design. The average time on the old< new.\n",
    "\n",
    "TEST:(numeric x boolean), comparison of means(t-test) of old vs new design.\n",
    "(HA is True, Accept HA) = true positive (P(Reject H0 when H0 is false)) More timeon new site. We said that is goo and it is better.\n",
    "(H0 is True, Accept H0) = true negative (P(We observed this result due to chance | H0 is true) Less time on new site.\n",
    "(H0 is True, Accept HA) = false positive = type I error (P(FP) = P(Type I Error)) A type I error is when we reject the null hypothesis, but, in reality, the null hypothesis is true. Site is better, but it is not.\n",
    "(HA is true, Accept H0) = false negative = type II error (P(FN) = P(Type II Error)) A type II error is when we fail to reject the null hypothesis when it is actually false. Time is increased, but we said it is better. Time spent is less, but the we said the website is better."
   ]
  },
  {
   "cell_type": "raw",
   "id": "ca7e8161",
   "metadata": {},
   "source": [
    "3. Is our television ad driving more sales?\n",
    "H0: There is no relationship between the tv ad (ad-mentions, numeric) (pre ad and post ad, discrete) and the number of sales(avg_sales, numeric, continuous).  The mean sales pre ad will be greater than\n",
    "HA:  There is a relationship (an increase) in number of sales due to the tv add. The mean sales pre ad are less than the post ad sales.\n",
    "\n",
    "TEST: (numeric x numeric: linear correlation between two continuous values, does one affect the other. (pearson's correlation))\n",
    "\n",
    "(HA is True, Accept HA) = true positive (P(Reject H0 when H0 is false) Post ad sales are higher than pre ad sales.\n",
    "(H0 is True, Accept H0) = true negative (P(We observed this result due to chance | H0 is true) Sales didnt increase, and we said\n",
    "(H0 is True, Accept HA) = false positive = type I error (P(FP) = P(Type I Error)) A type I error is when we reject the null hypothesis, but, in reality, the null hypothesis is true. post ad are higher, but we said that they are not\n",
    "(HA is true, Accept H0) = false negative = type II error (P(FN) = P(Type II Error)) A type II error is when we fail to reject the null hypothesis when it is actually false.Increaed sales, but we took down the ad.  add seemed to work, but we didn't think so, but we blamed marketing. "
   ]
  },
  {
   "cell_type": "raw",
   "id": "481a0623",
   "metadata": {},
   "source": [
    "1. Answer with the type of test you would use (assume normal distribution):\n",
    "\n",
    "a. Is there a difference in grades of students on the second floor compared to grades of all students?\n",
    "One sample T-test, 2 tailed\n",
    "\n",
    "b. Are adults who drink milk taller than adults who dont drink milk?\n",
    "Two sample T-test(independent), 1 tail\n",
    "\n",
    "c. Is the the price of gas higher in texas or in new mexico?\n",
    "Two sample T-test, 1 tail\n",
    "\n",
    "d. Are there differences in stress levels between students who take data science vs students who take web development vs students who take cloud academy? ANOVA Analysis of Variance\n",
    "Goal: Compare means of groups a, b & c, NO TAIL\n"
   ]
  },
  {
   "cell_type": "code",
   "execution_count": 11,
   "id": "6d9edba9",
   "metadata": {},
   "outputs": [],
   "source": [
    "import numpy as np\n",
    "import pandas as pd\n",
    "import matplotlib.pyplot as plt\n",
    "import scipy.stats as stats\n",
    "import seaborn as sns\n",
    "%matplotlib inline\n",
    "import viz # curriculum example visualizations\n"
   ]
  },
  {
   "cell_type": "raw",
   "id": "dc63609f",
   "metadata": {},
   "source": [
    "2. Ace Realty wants to determine whether the average time it takes to sell homes is different for its two offices. A sample of 40 sales from office #1 revealed a mean of 90 days and a standard deviation of 15 days. A sample of 50 sales from office #2 revealed a mean of 100 days and a standard deviation of 20 days. Use a .05 level of significance."
   ]
  },
  {
   "cell_type": "code",
   "execution_count": null,
   "id": "5dd1dbb7",
   "metadata": {},
   "outputs": [],
   "source": [
    "What are we comparing?\n",
    "-average time (nummeruc, continuous) to sales offices (discrete categories)\n",
    "-one sample or 2 samples?\n",
    "    -two sample; two groups out of the populations\n",
    "-one tailed or two?\n",
    "    -two tailed; we are asked if they are just different"
   ]
  },
  {
   "cell_type": "code",
   "execution_count": null,
   "id": "92eeeed2",
   "metadata": {},
   "outputs": [],
   "source": [
    "Form a hypothesis:\n",
    "H0 μa == μb\n",
    "Ha μa!=μb"
   ]
  },
  {
   "cell_type": "code",
   "execution_count": null,
   "id": "362fca03",
   "metadata": {},
   "outputs": [],
   "source": [
    "Significance level = 0.05"
   ]
  },
  {
   "cell_type": "raw",
   "id": "d79b22d5",
   "metadata": {},
   "source": [
    "x = np.arange (50, 150)\n",
    "\n",
    "y1 = stats.norm(90, 15).pdf(x)\n",
    "y2 = stats.norm(100, 20).pdf(x)"
   ]
  },
  {
   "cell_type": "code",
   "execution_count": null,
   "id": "428786a4",
   "metadata": {},
   "outputs": [],
   "source": [
    "plt.figure"
   ]
  },
  {
   "cell_type": "code",
   "execution_count": 17,
   "id": "6d1b743b",
   "metadata": {},
   "outputs": [
    {
     "data": {
      "text/plain": [
       "array([ 79.29137872,  60.23088413,  86.0764955 ,  93.2435279 ,\n",
       "        79.06860966,  87.5056769 ,  90.20615846, 103.67618785,\n",
       "       101.1609579 ,  96.3224859 , 100.78920554,  81.22390629,\n",
       "        83.2892159 ,  68.25159797,  93.98084604,  82.74917324,\n",
       "        73.76840573,  74.73268431,  97.83738182,  94.89601057,\n",
       "        97.27996451,  88.66274941,  67.90521908,  94.53961383,\n",
       "       102.07688493,  80.21797069,  85.58764834, 121.30002958,\n",
       "        94.89091555, 116.24902531,  76.76281755, 105.96292573,\n",
       "        72.15853497,  74.45915376, 104.53551677,  78.5690668 ,\n",
       "        98.11162737,  89.585291  ,  95.22319157,  75.9866897 ])"
      ]
     },
     "execution_count": 17,
     "metadata": {},
     "output_type": "execute_result"
    }
   ],
   "source": [
    "office1 = np.random.normal(90, 15, 40)\n",
    "office1"
   ]
  },
  {
   "cell_type": "code",
   "execution_count": 18,
   "id": "66b22cb5",
   "metadata": {},
   "outputs": [
    {
     "data": {
      "text/plain": [
       "array([ 92.90501913,  75.74647366,  76.61897139,  86.49422288,\n",
       "       108.49252301,  87.33926636, 115.9766475 ,  98.88134441,\n",
       "        83.96045462, 102.48368736, 109.45090693, 103.19750739,\n",
       "        65.08760535, 102.33470938,  95.94424891, 120.72789619,\n",
       "       117.14399928, 111.80285121,  83.60531009,  88.40106071,\n",
       "        79.86132602,  97.63257328, 120.95594466,  69.5888427 ,\n",
       "        88.75850776,  88.47568003, 128.75209683, 103.74756941,\n",
       "        91.64679374, 102.26263376, 101.04742318,  85.21419269,\n",
       "        82.21119446, 103.48112527, 111.34278598,  83.1363688 ,\n",
       "        84.40685754,  98.57000196,  98.71724394, 100.34929115,\n",
       "       103.00262662, 115.89439973, 149.21223418, 113.76732244,\n",
       "        56.77791966, 113.60910593, 103.14237736,  78.89558733,\n",
       "        98.64528914,  94.45166243])"
      ]
     },
     "execution_count": 18,
     "metadata": {},
     "output_type": "execute_result"
    }
   ],
   "source": [
    "office2 = np.random.normal(100, 20, 50)\n",
    "office2"
   ]
  },
  {
   "cell_type": "code",
   "execution_count": 32,
   "id": "a9d8294f",
   "metadata": {},
   "outputs": [
    {
     "name": "stdout",
     "output_type": "stream",
     "text": [
      "173.4488534395423\n",
      "279.64561049541203\n"
     ]
    }
   ],
   "source": [
    "print(office1.var())\n",
    "print(office2.var())"
   ]
  },
  {
   "cell_type": "code",
   "execution_count": 33,
   "id": "8464ff0c",
   "metadata": {},
   "outputs": [],
   "source": [
    "stat, pval = stats.levene(office1, office2)"
   ]
  },
  {
   "cell_type": "code",
   "execution_count": 34,
   "id": "1dddb54e",
   "metadata": {},
   "outputs": [
    {
     "data": {
      "text/plain": [
       "1.010072505852445"
      ]
     },
     "execution_count": 34,
     "metadata": {},
     "output_type": "execute_result"
    }
   ],
   "source": [
    "stat"
   ]
  },
  {
   "cell_type": "code",
   "execution_count": 35,
   "id": "6ea85bd7",
   "metadata": {},
   "outputs": [
    {
     "data": {
      "text/plain": [
       "0.3176410238808619"
      ]
     },
     "execution_count": 35,
     "metadata": {},
     "output_type": "execute_result"
    }
   ],
   "source": [
    "pval"
   ]
  },
  {
   "cell_type": "code",
   "execution_count": 36,
   "id": "b59f81af",
   "metadata": {},
   "outputs": [
    {
     "data": {
      "text/plain": [
       "<function scipy.stats.stats.ttest_ind(a, b, axis=0, equal_var=True, nan_policy='propagate', permutations=None, random_state=None, alternative='two-sided', trim=0)>"
      ]
     },
     "execution_count": 36,
     "metadata": {},
     "output_type": "execute_result"
    }
   ],
   "source": [
    "stats.ttest_ind"
   ]
  },
  {
   "cell_type": "code",
   "execution_count": 37,
   "id": "1534ac0f",
   "metadata": {},
   "outputs": [],
   "source": [
    "stat, pval = stats.ttest_ind(office1, office2)"
   ]
  },
  {
   "cell_type": "code",
   "execution_count": 38,
   "id": "02fc70bc",
   "metadata": {},
   "outputs": [
    {
     "data": {
      "text/plain": [
       "(-2.6825272189972615, 0.008726692227841172)"
      ]
     },
     "execution_count": 38,
     "metadata": {},
     "output_type": "execute_result"
    }
   ],
   "source": [
    "(stat, pval)"
   ]
  },
  {
   "cell_type": "code",
   "execution_count": 42,
   "id": "d4f09182",
   "metadata": {},
   "outputs": [],
   "source": [
    "stat, pval  = stats.levene(office1, office2)"
   ]
  },
  {
   "cell_type": "code",
   "execution_count": 40,
   "id": "88e36da9",
   "metadata": {},
   "outputs": [],
   "source": [
    "import 'from pydataset "
   ]
  },
  {
   "cell_type": "raw",
   "id": "96a7886d",
   "metadata": {},
   "source": [
    "3.Load the mpg dataset and use it to answer the following questions:\n",
    "\n",
    "a. Is there a difference in fuel-efficiency in cars from 2008 vs 1999?\n",
    "b. Are compact cars more fuel-efficient than the average car?\n",
    "c. Do manual cars get better gas mileage than automatic cars?"
   ]
  },
  {
   "cell_type": "code",
   "execution_count": null,
   "id": "ebc0191b",
   "metadata": {},
   "outputs": [],
   "source": [
    "One or two tailed?  \n",
    "    Two tailed: looking for inequality\n",
    "One or two samples?\n",
    "    Two sample (independed) Looking to compare values across cars"
   ]
  },
  {
   "cell_type": "code",
   "execution_count": null,
   "id": "a0f61fd8",
   "metadata": {},
   "outputs": [],
   "source": [
    "H0 μa == μb\n",
    "Ha μa!=μb"
   ]
  },
  {
   "cell_type": "code",
   "execution_count": null,
   "id": "30a6525d",
   "metadata": {},
   "outputs": [],
   "source": [
    "calculate average fuel economy assuming 50% highway and 50% city"
   ]
  },
  {
   "cell_type": "code",
   "execution_count": null,
   "id": "efbf4283",
   "metadata": {},
   "outputs": [],
   "source": [
    "use arithmetic mean vs harmonic mean\n",
    "arithmetic mean : fe_am + (cty + hwy)/2\n",
    "harmonic mean: fe_hm = 2"
   ]
  },
  {
   "cell_type": "code",
   "execution_count": null,
   "id": "59518ac6",
   "metadata": {},
   "outputs": [],
   "source": [
    "mpg"
   ]
  },
  {
   "cell_type": "markdown",
   "id": "6a13911b",
   "metadata": {},
   "source": [
    "#CORRELATION EXERCISES"
   ]
  },
  {
   "cell_type": "code",
   "execution_count": 1,
   "id": "a496972d",
   "metadata": {},
   "outputs": [],
   "source": [
    "%matplotlib inline\n",
    "%config InlineBackend.figure_format = 'retina'\n",
    "from math import sqrt\n",
    "\n",
    "import numpy as np\n",
    "import pandas as pd\n",
    "import scipy.stats as stats\n",
    "import matplotlib.pyplot as plt\n",
    "import seaborn as sns\n",
    "from pydataset import data"
   ]
  },
  {
   "cell_type": "code",
   "execution_count": null,
   "id": "a9db6b25",
   "metadata": {},
   "outputs": [],
   "source": []
  },
  {
   "cell_type": "raw",
   "id": "4673b7f4",
   "metadata": {},
   "source": [
    "1. Answer with the type of stats test you would use (assume normal distribution):\n",
    "a. Is there a relationship between the length of your arm and the length of your foot?\n",
    "b. Do guys and gals quit their jobs at the same rate?\n",
    "c. Does the length of time of the lecture correlate with a students grade?\n",
    "\n"
   ]
  },
  {
   "cell_type": "raw",
   "id": "626b6ac1",
   "metadata": {},
   "source": [
    "2. Use the telco_churn data.\n",
    "a. Does tenure correlate with monthly charges?\n",
    "b. Total charges?\n",
    "c. What happens if you control for phone and internet service?\n"
   ]
  },
  {
   "cell_type": "raw",
   "id": "7e066a20",
   "metadata": {},
   "source": [
    "3. Use the employees database.\n",
    "a. Is there a relationship between how long an employee has been with the company and their salary?\n",
    "b.Is there a relationship between how long an employee has been with the company and the number of titles they have had?\n"
   ]
  },
  {
   "cell_type": "raw",
   "id": "680ccd4e",
   "metadata": {},
   "source": [
    "4. Use the sleepstudy data.\n",
    "a. Is there a relationship between days and reaction time?"
   ]
  },
  {
   "cell_type": "code",
   "execution_count": null,
   "id": "efcac5c4",
   "metadata": {},
   "outputs": [],
   "source": []
  },
  {
   "cell_type": "code",
   "execution_count": null,
   "id": "2e142faa",
   "metadata": {},
   "outputs": [],
   "source": []
  },
  {
   "cell_type": "code",
   "execution_count": null,
   "id": "56a9270b",
   "metadata": {},
   "outputs": [],
   "source": []
  },
  {
   "cell_type": "code",
   "execution_count": null,
   "id": "652d3445",
   "metadata": {},
   "outputs": [],
   "source": []
  },
  {
   "cell_type": "code",
   "execution_count": null,
   "id": "43afcd41",
   "metadata": {},
   "outputs": [],
   "source": []
  }
 ],
 "metadata": {
  "kernelspec": {
   "display_name": "Python 3 (ipykernel)",
   "language": "python",
   "name": "python3"
  },
  "language_info": {
   "codemirror_mode": {
    "name": "ipython",
    "version": 3
   },
   "file_extension": ".py",
   "mimetype": "text/x-python",
   "name": "python",
   "nbconvert_exporter": "python",
   "pygments_lexer": "ipython3",
   "version": "3.9.7"
  }
 },
 "nbformat": 4,
 "nbformat_minor": 5
}
